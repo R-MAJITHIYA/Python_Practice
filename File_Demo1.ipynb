{
 "cells": [
  {
   "cell_type": "code",
   "execution_count": 39,
   "metadata": {},
   "outputs": [
    {
     "data": {
      "text/plain": [
       "'C:\\\\Users\\\\Admin\\\\Documents\\\\Python Scripts'"
      ]
     },
     "execution_count": 39,
     "metadata": {},
     "output_type": "execute_result"
    }
   ],
   "source": [
    "pwd()"
   ]
  },
  {
   "cell_type": "code",
   "execution_count": 40,
   "metadata": {},
   "outputs": [
    {
     "name": "stdout",
     "output_type": "stream",
     "text": [
      "Overwriting test.txt\n"
     ]
    }
   ],
   "source": [
    "%%writefile test.txt\n",
    "\n",
    "Hello, this is demo file. created from jupyter.\n",
    "This is second line.\n",
    "This is third line."
   ]
  },
  {
   "cell_type": "code",
   "execution_count": 41,
   "metadata": {},
   "outputs": [
    {
     "data": {
      "text/plain": [
       "'\\nHello, this is demo file. created from jupyter.\\nThis is second line.\\nThis is third line.\\n'"
      ]
     },
     "execution_count": 41,
     "metadata": {},
     "output_type": "execute_result"
    }
   ],
   "source": [
    "my_file = open(\"test.txt\")  #default open in a read mode.   , mode = 'w+'\n",
    "my_file.read()"
   ]
  },
  {
   "cell_type": "code",
   "execution_count": 42,
   "metadata": {},
   "outputs": [
    {
     "data": {
      "text/plain": [
       "' created from jupyter.\\nThis is second line.\\nThis is third line.\\n'"
      ]
     },
     "execution_count": 42,
     "metadata": {},
     "output_type": "execute_result"
    }
   ],
   "source": [
    "#my_file.write(\"This is example of test file.................\") if mode is w+\n",
    "my_file.seek(27)\n",
    "my_file.read()"
   ]
  },
  {
   "cell_type": "code",
   "execution_count": 43,
   "metadata": {},
   "outputs": [
    {
     "data": {
      "text/plain": [
       "['\\n',\n",
       " 'Hello, this is demo file. created from jupyter.\\n',\n",
       " 'This is second line.\\n',\n",
       " 'This is third line.\\n']"
      ]
     },
     "execution_count": 43,
     "metadata": {},
     "output_type": "execute_result"
    }
   ],
   "source": [
    "my_file.seek(0)\n",
    "my_file.readlines()"
   ]
  },
  {
   "cell_type": "code",
   "execution_count": 46,
   "metadata": {},
   "outputs": [
    {
     "name": "stdout",
     "output_type": "stream",
     "text": [
      "\n",
      "\n",
      "Hello, this is demo file. created from jupyter.\n",
      "\n",
      "This is second line.\n",
      "\n",
      "This is third line.\n",
      "\n"
     ]
    }
   ],
   "source": [
    "my_file = open(\"test.txt\")\n",
    "for line in my_file:\n",
    "    print(line)"
   ]
  },
  {
   "cell_type": "code",
   "execution_count": 5,
   "metadata": {},
   "outputs": [
    {
     "data": {
      "text/plain": [
       "'This is input variable to file.'"
      ]
     },
     "execution_count": 5,
     "metadata": {},
     "output_type": "execute_result"
    }
   ],
   "source": [
    "from io import StringIO\n",
    "\n",
    "s = \"This is input variable to file.\"\n",
    "my_file = StringIO(s)\n",
    "\n",
    "my_file.read()"
   ]
  },
  {
   "cell_type": "code",
   "execution_count": 6,
   "metadata": {},
   "outputs": [
    {
     "data": {
      "text/plain": [
       "39"
      ]
     },
     "execution_count": 6,
     "metadata": {},
     "output_type": "execute_result"
    }
   ],
   "source": [
    "my_file.write(' This is appended to main file content.')"
   ]
  },
  {
   "cell_type": "code",
   "execution_count": 7,
   "metadata": {},
   "outputs": [
    {
     "data": {
      "text/plain": [
       "'This is input variable to file. This is appended to main file content.'"
      ]
     },
     "execution_count": 7,
     "metadata": {},
     "output_type": "execute_result"
    }
   ],
   "source": [
    "my_file.seek(0)\n",
    "my_file.read()"
   ]
  },
  {
   "cell_type": "code",
   "execution_count": 11,
   "metadata": {},
   "outputs": [
    {
     "name": "stdout",
     "output_type": "stream",
     "text": [
      "TRY:   This line never execute if error occured.\n",
      "ELSE:     Either except or else block is execute, and not both.\n",
      "                 This else block executed if no error in try block.\n",
      "FINALLY:     This finally block executed in any cases.\n"
     ]
    }
   ],
   "source": [
    "try:\n",
    "    a = 1 / 1\n",
    "    print('TRY:   This line never execute if error occured.')\n",
    "except:\n",
    "    print('EXCEPT:    This block execute when error occured.')\n",
    "else:\n",
    "    print('ELSE:     Either except or else block is execute, and not both.')\n",
    "    print('                 This else block executed if no error in try block.')\n",
    "finally:\n",
    "    print('FINALLY:     This finally block executed in any cases.')"
   ]
  },
  {
   "cell_type": "code",
   "execution_count": 1,
   "metadata": {},
   "outputs": [
    {
     "name": "stdout",
     "output_type": "stream",
     "text": [
      "Input integer A : 10\n",
      "Input integer B : 0\n",
      "Please input integer only and B should not be 0. \n",
      " Error:  division by zero\n",
      "Finally.\n",
      "Input integer A : 10\n",
      "Input integer B : 20\n",
      "0.5\n",
      "Finally.\n"
     ]
    }
   ],
   "source": [
    "while True:\n",
    "    try:\n",
    "        a = int(input('Input integer A : '))\n",
    "        b = int(input('Input integer B : '))\n",
    "        c = a / b\n",
    "    except Exception as e:\n",
    "        print('Please input integer only and B should not be 0. \\n Error:  ' + str(e))\n",
    "        continue\n",
    "    else:\n",
    "        print(c)\n",
    "        break\n",
    "    finally:\n",
    "        print('Finally.')"
   ]
  },
  {
   "cell_type": "code",
   "execution_count": 1,
   "metadata": {},
   "outputs": [
    {
     "name": "stdout",
     "output_type": "stream",
     "text": [
      "My own error.\n"
     ]
    }
   ],
   "source": [
    "class MyError(Exception):\n",
    "    pass\n",
    "\n",
    "try:\n",
    "    raise MyError\n",
    "except MyError:\n",
    "    print('My own error.')\n",
    "    "
   ]
  },
  {
   "cell_type": "code",
   "execution_count": null,
   "metadata": {},
   "outputs": [],
   "source": []
  }
 ],
 "metadata": {
  "colab": {
   "authorship_tag": "ABX9TyOUmYnlJcyZbBIzkLVKX0xR",
   "name": "Practice1.ipynb",
   "provenance": []
  },
  "kernelspec": {
   "display_name": "Python 3 (ipykernel)",
   "language": "python",
   "name": "python3"
  },
  "language_info": {
   "codemirror_mode": {
    "name": "ipython",
    "version": 3
   },
   "file_extension": ".py",
   "mimetype": "text/x-python",
   "name": "python",
   "nbconvert_exporter": "python",
   "pygments_lexer": "ipython3",
   "version": "3.9.12"
  }
 },
 "nbformat": 4,
 "nbformat_minor": 1
}
