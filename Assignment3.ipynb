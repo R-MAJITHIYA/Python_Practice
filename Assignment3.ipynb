{
 "cells": [
  {
   "cell_type": "code",
   "execution_count": 3,
   "id": "8a5d7934",
   "metadata": {},
   "outputs": [
    {
     "name": "stdout",
     "output_type": "stream",
     "text": [
      "[1, 2, 3, 4]\n",
      "10\n",
      "10\n"
     ]
    }
   ],
   "source": [
    "from functools import reduce\n",
    "def myreduce(l):\n",
    "    s = 0\n",
    "    for i in l:\n",
    "        s = s + i\n",
    "    return s\n",
    "\n",
    "l = [1,2,3,4]\n",
    "print(l)\n",
    "print(myreduce(l))\n",
    "print(reduce(lambda x,y:x+y,l))"
   ]
  },
  {
   "cell_type": "code",
   "execution_count": 44,
   "id": "d412a2b4",
   "metadata": {},
   "outputs": [
    {
     "name": "stdout",
     "output_type": "stream",
     "text": [
      "[0, 1, 2, 3, 4, 5, 6, 7, 8, 9, 10, 11, 12, 13, 14, 15, 16, 17, 18, 19, 20, 21, 22, 23, 24, 25, 26, 27, 28, 29, 30, 31, 32, 33, 34, 35, 36, 37, 38, 39, 40, 41, 42, 43, 44, 45, 46, 47, 48, 49, 50, 51, 52, 53, 54, 55, 56, 57, 58, 59, 60, 61, 62, 63, 64, 65, 66, 67, 68, 69, 70, 71, 72, 73, 74, 75, 76, 77, 78, 79, 80, 81, 82, 83, 84, 85, 86, 87, 88, 89, 90, 91, 92, 93, 94, 95, 96, 97, 98, 99]\n",
      "[2, 3, 5, 7, 11, 13, 17, 19, 23, 29, 31, 37, 41, 43, 47, 53, 59, 61, 67, 71, 73, 79, 83, 89, 97]\n"
     ]
    }
   ],
   "source": [
    "import math\n",
    "\n",
    "def myfilter(l):\n",
    "    for i in l:\n",
    "        if(i>1 and i%2 != 0):\n",
    "            for j in range(3,int(math.sqrt(i))+1,2):\n",
    "                if i%j == 0:\n",
    "                    break\n",
    "            else: \n",
    "                yield i\n",
    "        \n",
    "l = list(range(100))\n",
    "l1 = list(myfilter(l))\n",
    "l1.insert(0,2)\n",
    "print(l, l1, sep = '\\n')"
   ]
  },
  {
   "cell_type": "code",
   "execution_count": null,
   "id": "c1c96034",
   "metadata": {},
   "outputs": [],
   "source": []
  }
 ],
 "metadata": {
  "kernelspec": {
   "display_name": "Python 3 (ipykernel)",
   "language": "python",
   "name": "python3"
  },
  "language_info": {
   "codemirror_mode": {
    "name": "ipython",
    "version": 3
   },
   "file_extension": ".py",
   "mimetype": "text/x-python",
   "name": "python",
   "nbconvert_exporter": "python",
   "pygments_lexer": "ipython3",
   "version": "3.9.12"
  }
 },
 "nbformat": 4,
 "nbformat_minor": 5
}
