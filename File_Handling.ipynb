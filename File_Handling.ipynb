{
  "nbformat": 4,
  "nbformat_minor": 0,
  "metadata": {
    "colab": {
      "provenance": [],
      "authorship_tag": "ABX9TyNTWty3COxuC+fJfo8P41Dn",
      "include_colab_link": true
    },
    "kernelspec": {
      "name": "python3",
      "display_name": "Python 3"
    },
    "language_info": {
      "name": "python"
    }
  },
  "cells": [
    {
      "cell_type": "markdown",
      "metadata": {
        "id": "view-in-github",
        "colab_type": "text"
      },
      "source": [
        "<a href=\"https://colab.research.google.com/github/R-MAJITHIYA/Python_Practice/blob/main/File_Handling.ipynb\" target=\"_parent\"><img src=\"https://colab.research.google.com/assets/colab-badge.svg\" alt=\"Open In Colab\"/></a>"
      ]
    },
    {
      "cell_type": "code",
      "source": [
        "from google.colab import drive\n",
        "drive.mount('/content/drive', force_remount=True)\n",
        "\n",
        "import pandas as pd\n",
        "import numpy as np"
      ],
      "metadata": {
        "colab": {
          "base_uri": "https://localhost:8080/"
        },
        "id": "HfC7DmaUG3YR",
        "outputId": "00b05aef-e7fc-4553-f898-b46758df285c"
      },
      "execution_count": 9,
      "outputs": [
        {
          "output_type": "stream",
          "name": "stdout",
          "text": [
            "Mounted at /content/drive\n"
          ]
        }
      ]
    },
    {
      "cell_type": "code",
      "source": [
        "import csv\n",
        "\n",
        "url = '/content/drive/MyDrive/Colab Notebooks/Python/Pandas/examples/ex7.csv'\n",
        "f = open(url)\n",
        "\n",
        "reader = csv.reader(f)  # reader is an iterable object. get data line by line from file.\n",
        "print(reader)\n",
        "#print(list(reader))\n",
        "\n",
        "for line in reader:\n",
        "  print(line)           # data output as a collection."
      ],
      "metadata": {
        "colab": {
          "base_uri": "https://localhost:8080/"
        },
        "id": "TUfI9LYmGZDZ",
        "outputId": "9d0ef266-851e-4e80-b4a0-f8e0cf667c70"
      },
      "execution_count": 10,
      "outputs": [
        {
          "output_type": "stream",
          "name": "stdout",
          "text": [
            "<_csv.reader object at 0x7d525939c270>\n",
            "['a', 'b', 'c']\n",
            "['1', '2', '3']\n",
            "['1', '2', '3']\n"
          ]
        }
      ]
    },
    {
      "cell_type": "code",
      "source": [
        "with open(url) as f:\n",
        "  line = list(csv.reader(f))\n",
        "print(line)\n",
        "header, values = line[0], line[1:]  # store abc in header and 123,123... in values."
      ],
      "metadata": {
        "colab": {
          "base_uri": "https://localhost:8080/"
        },
        "id": "hIy77sahG_3Z",
        "outputId": "ab6f9449-6bc8-4bf8-fb22-2ffe3b86271e"
      },
      "execution_count": 11,
      "outputs": [
        {
          "output_type": "stream",
          "name": "stdout",
          "text": [
            "[['a', 'b', 'c'], ['1', '2', '3'], ['1', '2', '3']]\n"
          ]
        }
      ]
    },
    {
      "cell_type": "code",
      "source": [
        "print(header)\n",
        "print(list(zip(values)))\n",
        "print(list(zip(*values)))\n",
        "print(list(zip(header,*values)))  # return tuples"
      ],
      "metadata": {
        "colab": {
          "base_uri": "https://localhost:8080/"
        },
        "id": "7uDiOw-8KTbg",
        "outputId": "e0f20a2d-a829-4dc4-a3bd-042fee7b622e"
      },
      "execution_count": 12,
      "outputs": [
        {
          "output_type": "stream",
          "name": "stdout",
          "text": [
            "['a', 'b', 'c']\n",
            "[(['1', '2', '3'],), (['1', '2', '3'],)]\n",
            "[('1', '1'), ('2', '2'), ('3', '3')]\n",
            "[('a', '1', '1'), ('b', '2', '2'), ('c', '3', '3')]\n"
          ]
        }
      ]
    },
    {
      "cell_type": "code",
      "source": [
        "data_dict = {h : v for h, v in zip(header, zip(*values))}\n",
        "print(data_dict)"
      ],
      "metadata": {
        "colab": {
          "base_uri": "https://localhost:8080/"
        },
        "id": "RjrbnJHARRNt",
        "outputId": "f79950f2-bac9-403e-c0db-2e6511142e89"
      },
      "execution_count": 13,
      "outputs": [
        {
          "output_type": "stream",
          "name": "stdout",
          "text": [
            "{'a': ('1', '1'), 'b': ('2', '2'), 'c': ('3', '3')}\n"
          ]
        }
      ]
    },
    {
      "cell_type": "code",
      "source": [
        "l1 = [0,1,2,3,4]\n",
        "l2 = [5,6,7,8,9]\n",
        "print({a:b for a,b in zip(l1,l2)})"
      ],
      "metadata": {
        "id": "wYmm4NU8Ut0i",
        "colab": {
          "base_uri": "https://localhost:8080/"
        },
        "outputId": "40ee925e-c14f-4cf6-f4b7-43064fbebf4b"
      },
      "execution_count": 14,
      "outputs": [
        {
          "output_type": "stream",
          "name": "stdout",
          "text": [
            "{0: 5, 1: 6, 2: 7, 3: 8, 4: 9}\n"
          ]
        }
      ]
    },
    {
      "cell_type": "code",
      "source": [
        "#JSON   Java Script Object Notation. Heirarchical data set format. Online json viewer available.\n",
        "\n",
        "obj = \"\"\"\n",
        "{\n",
        "\t\"id\": \"0001\",\n",
        "\t\"type\": \"donut\",\n",
        "\t\"name\": \"Cake\",\n",
        "\t\"ppu\": 0.55,\n",
        "\t\"batters\":\n",
        "\t\t{\n",
        "\t\t\t\"batter\":\n",
        "\t\t\t\t[\n",
        "\t\t\t\t\t{ \"id\": \"1001\", \"type\": \"Regular\" },\n",
        "\t\t\t\t\t{ \"id\": \"1002\", \"type\": \"Chocolate\" },\n",
        "\t\t\t\t\t{ \"id\": \"1003\", \"type\": \"Blueberry\" },\n",
        "\t\t\t\t\t{ \"id\": \"1004\", \"type\": \"Devil's Food\" }\n",
        "\t\t\t\t]\n",
        "\t\t},\n",
        "\t\"topping\":\n",
        "\t\t[\n",
        "\t\t\t{ \"id\": \"5001\", \"type\": \"None\" },\n",
        "\t\t\t{ \"id\": \"5002\", \"type\": \"Glazed\" },\n",
        "\t\t\t{ \"id\": \"5005\", \"type\": \"Sugar\" },\n",
        "\t\t\t{ \"id\": \"5007\", \"type\": \"Powdered Sugar\" },\n",
        "\t\t\t{ \"id\": \"5006\", \"type\": \"Chocolate with Sprinkles\" },\n",
        "\t\t\t{ \"id\": \"5003\", \"type\": \"Chocolate\" },\n",
        "\t\t\t{ \"id\": \"5004\", \"type\": \"Maple\" }\n",
        "\t\t]\n",
        "}\n",
        "\"\"\"\n",
        "import json\n",
        "\n",
        "print(type(obj))\n",
        "#print(obj)  give correct data in format\n",
        "result = json.loads(obj)\n",
        "#print(result)   give correct data in one line format\n",
        "print(type(result))   #  string converted to dictionary if data is in json format.\n",
        "print(result)\n",
        "to_str = json.dumps(result)   # conver json object to string data\n",
        "print(type(to_str))"
      ],
      "metadata": {
        "id": "7Hcto5zaW5UR",
        "colab": {
          "base_uri": "https://localhost:8080/"
        },
        "outputId": "aaf72ddf-169d-4065-9079-b3dc4488d2e5"
      },
      "execution_count": 15,
      "outputs": [
        {
          "output_type": "stream",
          "name": "stdout",
          "text": [
            "<class 'str'>\n",
            "<class 'dict'>\n",
            "{'id': '0001', 'type': 'donut', 'name': 'Cake', 'ppu': 0.55, 'batters': {'batter': [{'id': '1001', 'type': 'Regular'}, {'id': '1002', 'type': 'Chocolate'}, {'id': '1003', 'type': 'Blueberry'}, {'id': '1004', 'type': \"Devil's Food\"}]}, 'topping': [{'id': '5001', 'type': 'None'}, {'id': '5002', 'type': 'Glazed'}, {'id': '5005', 'type': 'Sugar'}, {'id': '5007', 'type': 'Powdered Sugar'}, {'id': '5006', 'type': 'Chocolate with Sprinkles'}, {'id': '5003', 'type': 'Chocolate'}, {'id': '5004', 'type': 'Maple'}]}\n",
            "<class 'str'>\n"
          ]
        }
      ]
    },
    {
      "cell_type": "code",
      "source": [
        "btr = pd.DataFrame(result['batters']['batter'], columns = ['type'])\n",
        "print(btr)"
      ],
      "metadata": {
        "colab": {
          "base_uri": "https://localhost:8080/"
        },
        "id": "iTKQYC0U7LmV",
        "outputId": "da8021f7-62b9-425d-dc64-aa9b1140f4cd"
      },
      "execution_count": 16,
      "outputs": [
        {
          "output_type": "stream",
          "name": "stdout",
          "text": [
            "           type\n",
            "0       Regular\n",
            "1     Chocolate\n",
            "2     Blueberry\n",
            "3  Devil's Food\n"
          ]
        }
      ]
    },
    {
      "cell_type": "code",
      "source": [
        "url = '/content/drive/MyDrive/Colab Notebooks/Python/Pandas/examples/example.json'\n",
        "\n",
        "df = pd.read_json(url)\n",
        "print(df)\n",
        "print('--------------------------------------------')\n",
        "print(df.to_json())     # if file name is not given in to_(*) function then by default it prints on system output.\n",
        "print('--------------------------------------------')\n",
        "print(df.to_json(orient='records'))"
      ],
      "metadata": {
        "id": "wEbEuoGhG6MP",
        "colab": {
          "base_uri": "https://localhost:8080/"
        },
        "outputId": "aee334cc-0131-469e-8410-11014823e93d"
      },
      "execution_count": 20,
      "outputs": [
        {
          "output_type": "stream",
          "name": "stdout",
          "text": [
            "   a  b  c\n",
            "0  1  2  3\n",
            "1  4  5  6\n",
            "2  7  8  9\n",
            "--------------------------------------------\n",
            "{\"a\":{\"0\":1,\"1\":4,\"2\":7},\"b\":{\"0\":2,\"1\":5,\"2\":8},\"c\":{\"0\":3,\"1\":6,\"2\":9}}\n",
            "--------------------------------------------\n",
            "[{\"a\":1,\"b\":2,\"c\":3},{\"a\":4,\"b\":5,\"c\":6},{\"a\":7,\"b\":8,\"c\":9}]\n"
          ]
        }
      ]
    },
    {
      "cell_type": "code",
      "source": [],
      "metadata": {
        "id": "aOAFcXK_QB8r"
      },
      "execution_count": null,
      "outputs": []
    }
  ]
}