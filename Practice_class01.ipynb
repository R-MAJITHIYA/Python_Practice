{
 "cells": [
  {
   "cell_type": "code",
   "execution_count": 1,
   "id": "a3935bae",
   "metadata": {},
   "outputs": [
    {
     "name": "stdout",
     "output_type": "stream",
     "text": [
      "ID is : 1, Name is : Abc, Class is : 1A, Grade is : B \n",
      "1\n",
      "Abc\n",
      "This is a public method.\n",
      "None\n",
      "dict_items([('Pid', 1), ('_name', 'Abc'), ('_Person__age', '7'), ('claas', '1A'), ('grade', 'B'), ('name', 'Abc')])\n",
      "dict_keys(['Pid', '_name', '_Person__age', 'claas', 'grade', 'name'])\n",
      "This is a public method.\n",
      "This is a protected method.\n",
      "This is a private method.\n",
      "\n",
      "This is a public method.\n",
      "None\n",
      "This is a public method.\n",
      "None\n",
      "<function Person.test0 at 0x000001EBC8A33CA0>\n",
      "<bound method Person.test0 of <__main__.Student object at 0x000001EBC897F700>>\n"
     ]
    }
   ],
   "source": [
    "class Person:\n",
    "    def __init__(self,Pid,name,age = '7'):   # default arguments from right to left.\n",
    "        self.Pid = Pid            # public variable\n",
    "        self._name = name         # protected variable\n",
    "        self.__age = age          # private variable\n",
    "    def __str__(self):\n",
    "        return \"%d, %s, %d\" % (self.Pid, self._name, self.__age)\n",
    "    \n",
    "    def test0(self):\n",
    "        print(\"This is a public method.\")\n",
    "    \n",
    "    def _test1(self):\n",
    "        print(\"This is a protected method.\")\n",
    "        self.__test2()          # private method only accessible by the method of same function.\n",
    "    \n",
    "    def __test2(self):\n",
    "        print(\"This is a private method.\")\n",
    "    \n",
    "class Student(Person):\n",
    "    def __init__(self,Pid,name,claas,grade):\n",
    "        Person.__init__(self,Pid,name)   # or super().__init__(Pid,name)  #age is not accessible. private\n",
    "        self.claas = claas\n",
    "        self.grade = grade\n",
    "    def __str__(self):\n",
    "        return \"ID is : %d, Name is : %s, Class is : %s, Grade is : %s \" \\\n",
    "            %(self.Pid, self._name, self.claas, self.grade)\n",
    "    \n",
    "p1 = Student(1,'Abc','1A','B')\n",
    "print(p1)\n",
    "print(p1.Pid)\n",
    "print(p1._name)   \n",
    "#print(p1.__age)  private not accessible.\n",
    "print(p1.__class__.test0(p1))\n",
    "print(p1.__dict__.items())\n",
    "print(p1.__dict__.keys())\n",
    "p1.test0()\n",
    "p1._test1()\n",
    "#p1.__test2()   private not accessible.\n",
    "\n",
    "print()\n",
    "print(p1.test0())  # Return 2 lines\n",
    "print(p1.__class__.test0(p1))  # same as print(p1.test0())\n",
    "print(p1.__class__.test0)\n",
    "print(p1.test0)\n",
    "\n",
    "\n"
   ]
  },
  {
   "cell_type": "code",
   "execution_count": 23,
   "id": "b2141de2",
   "metadata": {},
   "outputs": [
    {
     "name": "stdout",
     "output_type": "stream",
     "text": [
      "This is init of Abc.\n",
      "This is init of Xyz.\n",
      "X = 1, Y = 2, Z = 3 \n",
      "This is test of Abc.\n",
      "This is test of Abc.\n",
      "This is test of Xyz.\n"
     ]
    }
   ],
   "source": [
    "class Abc():\n",
    "    def __init__(self,a,b,c):\n",
    "        self.a = a\n",
    "        self.b = b\n",
    "        self.c = c\n",
    "        print(\"This is init of Abc.\")\n",
    "        \n",
    "    def __str__(self):\n",
    "        return \"A = %d, B = %d, C = %d \" % (self.a,self.b,self.c)\n",
    "    \n",
    "    def test(self):\n",
    "        print(\"This is test of Abc.\")\n",
    "    \n",
    "class Xyz(Abc):\n",
    "    def __init__(self,x,y,z):\n",
    "        Abc.__init__(self,x,y,z)    # init overriding.\n",
    "        self.x = x\n",
    "        self.y = y\n",
    "        self.z = z\n",
    "        print(\"This is init of Xyz.\")\n",
    "        \n",
    "    def __str__(self):\n",
    "        Abc.__str__(self)\n",
    "        return \"X = %d, Y = %d, Z = %d \" % (self.x,self.y,self.z)\n",
    "    \n",
    "    def test(self):\n",
    "        Abc.test(self)          #   super().test()\n",
    "        print(\"This is test of Xyz.\")\n",
    "        \n",
    "obj1 = Xyz(1,2,3)\n",
    "print(obj1)\n",
    "obj1.test()"
   ]
  },
  {
   "cell_type": "code",
   "execution_count": 2,
   "id": "630fbb08",
   "metadata": {},
   "outputs": [
    {
     "name": "stdout",
     "output_type": "stream",
     "text": [
      " C value is : 3. \n",
      "This is test of A.\n",
      "This is test of B.\n",
      "This is test of A.\n",
      "This is test of C\n"
     ]
    }
   ],
   "source": [
    "class A():       # Multi-level \n",
    "    def __init__(self,a):\n",
    "        self.a = a\n",
    "    def __str__(self):\n",
    "        return \" A value is : %d. \" % (self.a)\n",
    "    def test(self):\n",
    "        print('This is test of A.')\n",
    "        \n",
    "class B(A):\n",
    "    def __init__(self,a,b):\n",
    "        super().__init__(a)\n",
    "        self.b = b\n",
    "    def __str__(self):\n",
    "        super().__str__()\n",
    "        return \" B value is : %d. \" % (self.b)\n",
    "    def test(self):\n",
    "        super().test()\n",
    "        print('This is test of B.')\n",
    "        \n",
    "class C(B):\n",
    "    def __init__(self,a,b,c):\n",
    "        super().__init__(a,b)\n",
    "        self.c = c\n",
    "    def __str__(self):\n",
    "        super().__str__()\n",
    "        return \" C value is : %d. \" % (self.c)\n",
    "    def test(self):\n",
    "        super().test()\n",
    "        A.test(self)\n",
    "        print('This is test of C')\n",
    "\n",
    "p1 = C(1,2,3)\n",
    "print(p1)    \n",
    "p1.test()"
   ]
  },
  {
   "cell_type": "code",
   "execution_count": 6,
   "id": "49190721",
   "metadata": {},
   "outputs": [
    {
     "name": "stdout",
     "output_type": "stream",
     "text": [
      " C value is : 3. \n",
      "This is test of A.\n",
      "This is test of B.\n",
      "This is test of C\n"
     ]
    },
    {
     "data": {
      "text/plain": [
       "' \\nif test method does not exist in child class C. \\nthen it is called class A test method. Because A appear first in defination.\\n\\nclass C(A,B)  ->  A test\\nclass C(B,A)  ->  B test\\n\\n'"
      ]
     },
     "execution_count": 6,
     "metadata": {},
     "output_type": "execute_result"
    }
   ],
   "source": [
    "class A():       # Multiple \n",
    "    def __init__(self,a):\n",
    "        self.a = a\n",
    "    def __str__(self):\n",
    "        return \" A value is : %d. \" % (self.a)\n",
    "    def test(self):\n",
    "        print('This is test of A.')\n",
    "        \n",
    "class B():\n",
    "    def __init__(self,b):\n",
    "        self.b = b\n",
    "    def __str__(self):\n",
    "        return \" B value is : %d. \" % (self.b)\n",
    "    def test(self):\n",
    "        print('This is test of B.')\n",
    "        \n",
    "class C(A,B):\n",
    "    def __init__(self,a,b,c):\n",
    "        A.__init__(self,a)\n",
    "        B.__init__(self,b)\n",
    "        self.c = c\n",
    "    def __str__(self):\n",
    "        return \" C value is : %d. \" % (self.c)\n",
    "    def test(self):\n",
    "        A.test(self)\n",
    "        B.test(self)\n",
    "        print('This is test of C')\n",
    "\n",
    "p1 = C(1,2,3)\n",
    "print(p1)    \n",
    "p1.test() \n",
    "\"\"\" \n",
    "if test method does not exist in child class C. \n",
    "then it is called class A test method. Because A appear first in defination.\n",
    "\n",
    "class C(A,B)  ->  A test\n",
    "class C(B,A)  ->  B test\n",
    "\n",
    "\"\"\""
   ]
  },
  {
   "cell_type": "code",
   "execution_count": 10,
   "id": "2162c1b2",
   "metadata": {},
   "outputs": [
    {
     "name": "stdout",
     "output_type": "stream",
     "text": [
      "1 \n"
     ]
    }
   ],
   "source": [
    "class A:\n",
    "    def __init__(self,a):\n",
    "        self.a = a\n",
    "    def __str__(self):\n",
    "        return ' %d ' % (self.a)\n",
    "\n",
    "class B:\n",
    "    def __init__(self,b):\n",
    "        self.b = b\n",
    "    def __str__(self):\n",
    "        return '%d ' % (self.b)\n",
    "    \n",
    "p1 = B(1)\n",
    "print(p1)\n",
    "\n"
   ]
  },
  {
   "cell_type": "code",
   "execution_count": 1,
   "id": "66e25250",
   "metadata": {},
   "outputs": [
    {
     "name": "stdout",
     "output_type": "stream",
     "text": [
      "A class a : 1\n",
      "B class b : 2\n",
      "C class c : 3\n",
      "A class a : 1B class b : 2C class c : 3\n"
     ]
    }
   ],
   "source": [
    "class A():\n",
    "  def __init__(self,a):\n",
    "    self.a = a\n",
    "  def __str__(self):\n",
    "    return \"A class a : \" + str(self.a)\n",
    "\n",
    "class B():\n",
    "  def __init__(self,b):\n",
    "    self.b = b\n",
    "  def __str__(self):\n",
    "    return \"B class b : \" + str(self.b)\n",
    "\n",
    "class C():\n",
    "  def __init__(self,c):\n",
    "    self.c = c\n",
    "  def __str__(self):\n",
    "    return \"C class c : \" + str(self.c)\n",
    "\n",
    "class D():\n",
    "  def __init__(self,a,b,c):\n",
    "    self.a = a\n",
    "    self.b = b\n",
    "    self.c = c\n",
    "  def __str__(self):\n",
    "    return str(self.a) + str(self.b) + str(self.c) \n",
    "\n",
    "a = A(1)\n",
    "b = B(2)\n",
    "c = C(3)\n",
    "d = D(a,b,c)\n",
    "\n",
    "print(a)\n",
    "print(b)\n",
    "print(c)\n",
    "print(d)"
   ]
  },
  {
   "cell_type": "code",
   "execution_count": 2,
   "id": "18b6248f",
   "metadata": {},
   "outputs": [
    {
     "name": "stdout",
     "output_type": "stream",
     "text": [
      "A class:  1 2 3\n",
      "B class:  11 22 33\n",
      "C class:  111 222 333\n",
      "D class:  1111 2222 3333\n"
     ]
    }
   ],
   "source": [
    "class A():\n",
    "  def __init__(self,a1,a2,a3):\n",
    "    self.a1 = a1\n",
    "    self.a2 = a2\n",
    "    self.a3 = a3\n",
    "  def __str__(self):\n",
    "    return \"A class: \" + str(self.a1) + str(self.a2) + str(self.a3)\n",
    "  def m1(self):\n",
    "    print(\"A class: \" + str(self.a1) + str(self.a2) + str(self.a3)) \n",
    "\n",
    "class B():\n",
    "  def __init__(self,b1,b2,b3):\n",
    "    self.b1 = b1\n",
    "    self.b2 = b2\n",
    "    self.b3 = b3\n",
    "  def __str__(self):\n",
    "    return \"B class: \" + str(self.b1) + str(self.b2) + str(self.b3)\n",
    "  def m2(self):\n",
    "    print(\"B class: \" + str(self.b1) + str(self.b2) + str(self.b3))\n",
    "\n",
    "class C():\n",
    "  def __init__(self,c1,c2,c3):\n",
    "    self.c1 = c1\n",
    "    self.c2 = c2\n",
    "    self.c3 = c3\n",
    "  def __str__(self):\n",
    "    return \"C class: \" + str(self.c1) + str(self.c2) + str(self.c3)\n",
    "  def m3(self):\n",
    "    print(\"C class: \" + str(self.c1) + str(self.c2) + str(self.c3))\n",
    "\n",
    "class D():\n",
    "  def __init__(self,d1,d2,d3):\n",
    "    self.d1 = d1\n",
    "    self.d2 = d2\n",
    "    self.d3 = d3\n",
    "  def __str__(self):\n",
    "    return \"D class: \" + str(self.d1) + str(self.d2) + str(self.d3)\n",
    "  def m4(self,a,b,c):\n",
    "    a.m1()\n",
    "    b.m2()\n",
    "    c.m3()\n",
    "    print(\"D class: \" + str(self.d1) + str(self.d2) + str(self.d3))\n",
    "\n",
    "a = A(' 1',' 2',' 3')\n",
    "b = B(' 11',' 22',' 33')\n",
    "c = C(' 111',' 222',' 333')\n",
    "d = D(' 1111',' 2222',' 3333')\n",
    "d.m4(a,b,c)\n"
   ]
  },
  {
   "cell_type": "code",
   "execution_count": 4,
   "id": "e5a2f83f",
   "metadata": {},
   "outputs": [
    {
     "name": "stdout",
     "output_type": "stream",
     "text": [
      "123\n",
      "1\n",
      "2\n",
      "3\n"
     ]
    }
   ],
   "source": [
    "class class1():\n",
    "  def __init__(self,a,b,c):\n",
    "    self.a = a\n",
    "    self._b = b\n",
    "    self.__c = c\n",
    "  def __str__(self):\n",
    "    return str(self.a) + str(self._b) + str(self.__c)\n",
    "class class2(class1):\n",
    "  pass\n",
    "\n",
    "obje2 = class2(1,2,3)\n",
    "print(obje2)\n",
    "print(obje2.a)\n",
    "print(obje2._b)\n",
    "##print(obje2.__c)\n",
    "print(obje2._class1__c)"
   ]
  },
  {
   "cell_type": "code",
   "execution_count": 8,
   "id": "abb17fd3",
   "metadata": {},
   "outputs": [
    {
     "name": "stdout",
     "output_type": "stream",
     "text": [
      "123\n"
     ]
    }
   ],
   "source": [
    "class A():\n",
    "    def __init__(self,a,b,c):\n",
    "        self.a = a\n",
    "        self._b = b\n",
    "        self.__c = c\n",
    "    def __str__(self):\n",
    "        return str(self.a) + str(self._b) + str(self.__c)\n",
    "\n",
    "class B(A):\n",
    "    pass\n",
    "\n",
    "o1 = B(1,2,3)\n",
    "print(o1)"
   ]
  },
  {
   "cell_type": "code",
   "execution_count": 25,
   "id": "52125865",
   "metadata": {},
   "outputs": [
    {
     "name": "stdout",
     "output_type": "stream",
     "text": [
      "123\n",
      "123\n"
     ]
    }
   ],
   "source": [
    "class A():\n",
    "    def __init__(self,a,b,c):\n",
    "        self.a = a\n",
    "        self._b = b\n",
    "        self.__c = c\n",
    "    def __str__(self):\n",
    "        return str(self.a) + str(self._b) + str(self.__c)\n",
    "    \n",
    "o1 = A(1,2,3)\n",
    "print(o1)\n",
    "    \n",
    "class B():\n",
    "    def __init__(self,a):\n",
    "        self.a = a\n",
    "    def __str__(self):\n",
    "        return str(self.a)\n",
    "\n",
    "o2 = B(o1)\n",
    "print(o2)"
   ]
  },
  {
   "cell_type": "code",
   "execution_count": 26,
   "id": "939804cc",
   "metadata": {},
   "outputs": [
    {
     "name": "stdout",
     "output_type": "stream",
     "text": [
      "123\n",
      "456\n"
     ]
    }
   ],
   "source": [
    "class A():\n",
    "    def __init__(self,a,b,c):\n",
    "        self.a = a\n",
    "        self._b = b\n",
    "        self.__c = c\n",
    "    def __str__(self):\n",
    "        return str(self.a) + str(self._b) + str(self.__c)\n",
    "    \n",
    "o1 = A(1,2,3)\n",
    "print(o1)\n",
    "    \n",
    "class B(A):\n",
    "   pass\n",
    "\n",
    "o2 = B(4,5,6)\n",
    "print(o2)"
   ]
  },
  {
   "cell_type": "code",
   "execution_count": 5,
   "id": "8f53126b",
   "metadata": {},
   "outputs": [
    {
     "name": "stdout",
     "output_type": "stream",
     "text": [
      "2\n",
      "abcxyz\n",
      "[1, 2, 3, 4, 5, 6]\n"
     ]
    }
   ],
   "source": [
    "def sum1(a,b):\n",
    "    return a + b\n",
    "\n",
    "print(sum1(1,1))\n",
    "print(sum1('abc','xyz'))\n",
    "print(sum1([1,2,3],[4,5,6]))"
   ]
  },
  {
   "cell_type": "code",
   "execution_count": null,
   "id": "1911f33d",
   "metadata": {},
   "outputs": [],
   "source": []
  }
 ],
 "metadata": {
  "kernelspec": {
   "display_name": "Python 3 (ipykernel)",
   "language": "python",
   "name": "python3"
  },
  "language_info": {
   "codemirror_mode": {
    "name": "ipython",
    "version": 3
   },
   "file_extension": ".py",
   "mimetype": "text/x-python",
   "name": "python",
   "nbconvert_exporter": "python",
   "pygments_lexer": "ipython3",
   "version": "3.9.12"
  }
 },
 "nbformat": 4,
 "nbformat_minor": 5
}
