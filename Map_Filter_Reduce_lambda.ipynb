{
 "cells": [
  {
   "cell_type": "code",
   "execution_count": 3,
   "id": "3464983f",
   "metadata": {},
   "outputs": [
    {
     "name": "stdout",
     "output_type": "stream",
     "text": [
      "[1, 2, 3, 4]\n",
      "[2, 3, 4, 5]\n",
      "[3, 4, 5, 6]\n",
      "[6, 9, 12, 15]\n",
      "42\n",
      "42\n",
      "15\n",
      "15\n",
      "[6, 12]\n",
      "[True, None, True, None]\n"
     ]
    }
   ],
   "source": [
    "from functools import reduce\n",
    "\n",
    "def test(l):\n",
    "    return (l+1)\n",
    "    \n",
    "l1 = [1,2,3,4]\n",
    "print(l1)\n",
    "l2 = list(map(test,l1))\n",
    "print(l2)\n",
    "l3 = list(map(lambda x : x+1,l2))\n",
    "print(l3)\n",
    "suml = list(map(lambda x,y,z : x+y+z,l1,l2,l3))\n",
    "print(suml)\n",
    "\n",
    "def maxfind(x,y):\n",
    "    if x > y:\n",
    "        return x\n",
    "    else:\n",
    "        return y\n",
    "\n",
    "def sum_list(x,y):\n",
    "    return (x+y)\n",
    "\n",
    "def chk(x):\n",
    "    if(x%2 == 0):\n",
    "        return True\n",
    "    \n",
    "print(reduce(sum_list,suml))\n",
    "print(reduce(lambda x,y:x+y,suml))\n",
    "print(reduce(maxfind,suml))\n",
    "\n",
    "udf = lambda x,y : x if x > y else y\n",
    "\n",
    "print(reduce(udf,suml))\n",
    "\n",
    "print(list(filter(chk,suml)))\n",
    "print(list(map(chk,suml)))"
   ]
  },
  {
   "cell_type": "code",
   "execution_count": null,
   "id": "4e0293da",
   "metadata": {},
   "outputs": [],
   "source": []
  }
 ],
 "metadata": {
  "kernelspec": {
   "display_name": "Python 3 (ipykernel)",
   "language": "python",
   "name": "python3"
  },
  "language_info": {
   "codemirror_mode": {
    "name": "ipython",
    "version": 3
   },
   "file_extension": ".py",
   "mimetype": "text/x-python",
   "name": "python",
   "nbconvert_exporter": "python",
   "pygments_lexer": "ipython3",
   "version": "3.9.12"
  }
 },
 "nbformat": 4,
 "nbformat_minor": 5
}
