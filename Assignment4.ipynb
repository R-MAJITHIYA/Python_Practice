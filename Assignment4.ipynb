{
 "cells": [
  {
   "cell_type": "code",
   "execution_count": 11,
   "id": "13f4c09d",
   "metadata": {},
   "outputs": [
    {
     "name": "stdout",
     "output_type": "stream",
     "text": [
      "Enter s : 10\n",
      "Enter a : 5\n",
      "Enter b : 3\n",
      "Enter c : 2\n",
      "Area of a given sides of a Triangle is : 52.91502622129181\n"
     ]
    }
   ],
   "source": [
    "class Triangle():\n",
    "    def __init__(self,s,a,b,c):\n",
    "        self.s = s\n",
    "        self.a = a\n",
    "        self.b = b\n",
    "        self.c = c\n",
    "\n",
    "class Area(Triangle):\n",
    "    def area(self):\n",
    "        return float(self.s*(self.s-self.a)*(self.s-self.b)*(self.s-self.c)) ** 0.5\n",
    "\n",
    "s = float(input(\"Enter s : \"))\n",
    "a = float(input(\"Enter a : \"))\n",
    "b = float(input(\"Enter b : \"))\n",
    "c = float(input(\"Enter c : \"))\n",
    "\n",
    "obj1 = Area(s,a,b,c)\n",
    "print(\"Area of a given sides of a Triangle is : \" + str(obj1.area()))"
   ]
  },
  {
   "cell_type": "code",
   "execution_count": 1,
   "id": "af42b364",
   "metadata": {},
   "outputs": [
    {
     "name": "stdout",
     "output_type": "stream",
     "text": [
      "abcddddd\n",
      "sdfasdfas\n",
      "sadfasdf\n"
     ]
    }
   ],
   "source": [
    "def filter_long_words(l,n):\n",
    "    for x in l:\n",
    "        if len(x) > n:\n",
    "            print(x)\n",
    "\n",
    "l = ['abcddddd','abc','sdfasdfas','werr','sadfasdf']\n",
    "n = 4\n",
    "\n",
    "filter_long_words(l,n)"
   ]
  },
  {
   "cell_type": "code",
   "execution_count": 10,
   "id": "df5522cb",
   "metadata": {},
   "outputs": [
    {
     "name": "stdout",
     "output_type": "stream",
     "text": [
      "[8, 3, 9, 4, 8]\n"
     ]
    }
   ],
   "source": [
    "def count_len(l):\n",
    "    l1 = []\n",
    "    for x in l:\n",
    "        l1.append(len(x))\n",
    "    return l1\n",
    "\n",
    "l = ['abcddddd','abc','sdfasdfas','werr','sadfasdf']\n",
    "\n",
    "count_len(l)\n",
    "print(l1)"
   ]
  },
  {
   "cell_type": "code",
   "execution_count": 13,
   "id": "ae1ad0cb",
   "metadata": {},
   "outputs": [
    {
     "name": "stdout",
     "output_type": "stream",
     "text": [
      "Enter Character : a\n",
      "Vowel True\n"
     ]
    }
   ],
   "source": [
    "c = input(\"Enter Character : \")\n",
    "if c in 'a,e,i,o,u':\n",
    "    print(\"Vowel True\")\n",
    "else:\n",
    "    print(\"Vowel False\")"
   ]
  }
 ],
 "metadata": {
  "kernelspec": {
   "display_name": "Python 3 (ipykernel)",
   "language": "python",
   "name": "python3"
  },
  "language_info": {
   "codemirror_mode": {
    "name": "ipython",
    "version": 3
   },
   "file_extension": ".py",
   "mimetype": "text/x-python",
   "name": "python",
   "nbconvert_exporter": "python",
   "pygments_lexer": "ipython3",
   "version": "3.9.12"
  }
 },
 "nbformat": 4,
 "nbformat_minor": 5
}
