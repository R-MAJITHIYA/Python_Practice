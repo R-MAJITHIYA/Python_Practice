{
  "nbformat": 4,
  "nbformat_minor": 0,
  "metadata": {
    "colab": {
      "provenance": [],
      "mount_file_id": "11_Gt8ky60VZn2oH2qJLv4j1msgBQyI4N",
      "authorship_tag": "ABX9TyMgnGAqQ0ddfxEELd1LGg8d"
    },
    "kernelspec": {
      "name": "python3",
      "display_name": "Python 3"
    },
    "language_info": {
      "name": "python"
    }
  },
  "cells": [
    {
      "cell_type": "code",
      "source": [
        "import numpy as np\n",
        "import pandas as pd\n",
        "import sys\n",
        "from datetime import date\n",
        "\n",
        "from google.colab import drive\n",
        "drive.mount('/content/drive', force_remount=True)\n",
        "\n",
        "np.set_printoptions(precision=4)\n",
        "pd.options.display.max_rows = 10"
      ],
      "metadata": {
        "colab": {
          "base_uri": "https://localhost:8080/"
        },
        "id": "jOObuQRrHMpk",
        "outputId": "1ed29a56-6d23-4b65-d772-1054b9a882c3"
      },
      "execution_count": 2,
      "outputs": [
        {
          "output_type": "stream",
          "name": "stdout",
          "text": [
            "Mounted at /content/drive\n"
          ]
        }
      ]
    },
    {
      "cell_type": "code",
      "source": [
        "df = pd.read_csv('/content/drive/MyDrive/Colab Notebooks/Python/Pandas/examples/ex5.csv')\n",
        "print(df)\n",
        "df.to_csv('/content/drive/MyDrive/Colab Notebooks/Python/Pandas/examples/test_ex5.csv')  #  sep='@', index = False, header = None / False, na_rep='NULL'"
      ],
      "metadata": {
        "id": "L_YdIUuleo8q",
        "colab": {
          "base_uri": "https://localhost:8080/"
        },
        "outputId": "d8ede019-35fc-40db-913a-74ad64b742fa"
      },
      "execution_count": 5,
      "outputs": [
        {
          "output_type": "stream",
          "name": "stdout",
          "text": [
            "  something  a   b     c   d message\n",
            "0       one  1   2   3.0   4     NaN\n",
            "1       two  5   6   NaN   8   world\n",
            "2     three  9  10  11.0  12     foo\n"
          ]
        }
      ]
    },
    {
      "cell_type": "code",
      "source": [
        "df.to_csv(sys.stdout,na_rep='NULL', columns=['a','b','c'])   # replace NaN with NULL. only selected columns we want to fetch."
      ],
      "metadata": {
        "id": "OVV4F9L4ewAG",
        "colab": {
          "base_uri": "https://localhost:8080/"
        },
        "outputId": "e209be06-6676-4f8c-b923-babecc1ae37a"
      },
      "execution_count": 6,
      "outputs": [
        {
          "output_type": "stream",
          "name": "stdout",
          "text": [
            ",a,b,c\n",
            "0,1,2,3.0\n",
            "1,5,6,NULL\n",
            "2,9,10,11.0\n"
          ]
        }
      ]
    },
    {
      "cell_type": "code",
      "source": [
        "dt_series = pd.date_range('14/02/2024', periods = 7)\n",
        "temp = pd.Series(dt_series,np.arange(7))  # range function in python allows only integer. arange function in numpy, it allows floating number also.\n",
        "print(temp)\n",
        "temp.to_csv('/content/drive/MyDrive/Colab Notebooks/Python/Pandas/examples/test_ex5.csv', header = False)\n",
        "temp = pd.Seriesindex = (['111','222','333'],np.arange(3)) # index value must be matched in series function.\n",
        "print(temp)"
      ],
      "metadata": {
        "colab": {
          "base_uri": "https://localhost:8080/"
        },
        "id": "a8U6TGXBUUpW",
        "outputId": "da69d2c2-7f4a-4266-f8f5-168b722d4409"
      },
      "execution_count": 8,
      "outputs": [
        {
          "output_type": "stream",
          "name": "stdout",
          "text": [
            "0   2024-02-14\n",
            "1   2024-02-15\n",
            "2   2024-02-16\n",
            "3   2024-02-17\n",
            "4   2024-02-18\n",
            "5   2024-02-19\n",
            "6   2024-02-20\n",
            "dtype: datetime64[ns]\n",
            "(['111', '222', '333'], array([0, 1, 2]))\n"
          ]
        },
        {
          "output_type": "stream",
          "name": "stderr",
          "text": [
            "<ipython-input-8-2d57a04cb123>:1: UserWarning: Parsing dates in DD/MM/YYYY format when dayfirst=False (the default) was specified. This may lead to inconsistently parsed dates! Specify a format to ensure consistent parsing.\n",
            "  dt_series = pd.date_range('14/02/2024', periods = 7)\n"
          ]
        }
      ]
    },
    {
      "cell_type": "code",
      "source": [],
      "metadata": {
        "id": "OIFRLWJuNIPs"
      },
      "execution_count": null,
      "outputs": []
    }
  ]
}